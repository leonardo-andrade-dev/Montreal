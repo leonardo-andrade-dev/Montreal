{
 "cells": [
  {
   "cell_type": "markdown",
   "metadata": {
    "application/vnd.databricks.v1+cell": {
     "cellMetadata": {},
     "inputWidgets": {},
     "nuid": "fb00c844-e055-4714-b7d2-ce1e34873c5b",
     "showTitle": false,
     "title": ""
    }
   },
   "source": [
    "## Importação de Bibliotecas"
   ]
  },
  {
   "cell_type": "code",
   "execution_count": 0,
   "metadata": {
    "application/vnd.databricks.v1+cell": {
     "cellMetadata": {
      "byteLimit": 2048000,
      "rowLimit": 10000
     },
     "inputWidgets": {},
     "nuid": "d292c8fa-41e0-4f4c-a735-299064822d78",
     "showTitle": false,
     "title": ""
    }
   },
   "outputs": [],
   "source": [
    "from pyspark.sql.types import StructType, StructField, IntegerType, StringType, DoubleType, MapType\n",
    "from pyspark.sql.functions import explode, col, from_json, expr, regexp_extract, udf, regexp_extract\n",
    "import pandas as pd\n",
    "import ast\n",
    "import requests\n",
    "import json"
   ]
  },
  {
   "cell_type": "markdown",
   "metadata": {
    "application/vnd.databricks.v1+cell": {
     "cellMetadata": {
      "byteLimit": 2048000,
      "rowLimit": 10000
     },
     "inputWidgets": {},
     "nuid": "1c8a3e7c-7606-4b7e-b959-d3e50020492c",
     "showTitle": false,
     "title": ""
    }
   },
   "source": [
    "## Função para chamar a API e carregar os dados do IBE retorna dataframe"
   ]
  },
  {
   "cell_type": "code",
   "execution_count": 0,
   "metadata": {
    "application/vnd.databricks.v1+cell": {
     "cellMetadata": {
      "byteLimit": 2048000,
      "rowLimit": 10000
     },
     "inputWidgets": {},
     "nuid": "8e381e85-d5d2-4f00-b587-5ceff65ee5d4",
     "showTitle": false,
     "title": ""
    }
   },
   "outputs": [],
   "source": [
    "def load_data_ibge(url):\n",
    "    response = requests.get(url)\n",
    "\n",
    "    if response.status_code == 200:\n",
    "        data = response.json()\n",
    "        return data\n",
    "    else:\n",
    "        print(f'Erro: {response.status_code} - {response.text}')"
   ]
  },
  {
   "cell_type": "markdown",
   "metadata": {
    "application/vnd.databricks.v1+cell": {
     "cellMetadata": {
      "byteLimit": 2048000,
      "rowLimit": 10000
     },
     "inputWidgets": {},
     "nuid": "6e2b86fe-5237-41f4-b6b3-1ac7cd8b1382",
     "showTitle": false,
     "title": ""
    }
   },
   "source": [
    "## Função para obter os valores do dicionário"
   ]
  },
  {
   "cell_type": "code",
   "execution_count": 0,
   "metadata": {
    "application/vnd.databricks.v1+cell": {
     "cellMetadata": {
      "byteLimit": 2048000,
      "rowLimit": 10000
     },
     "inputWidgets": {},
     "nuid": "a664e457-56d2-458f-af72-2380baabe1b0",
     "showTitle": false,
     "title": ""
    }
   },
   "outputs": [],
   "source": [
    "def parse_json_string(json_string):\n",
    "    if json_string:\n",
    "        return dict(map(lambda x: x.split('='), json_string.strip('{}').split(', ')))\n",
    "    else:\n",
    "        return {}"
   ]
  },
  {
   "cell_type": "markdown",
   "metadata": {
    "application/vnd.databricks.v1+cell": {
     "cellMetadata": {
      "byteLimit": 2048000,
      "rowLimit": 10000
     },
     "inputWidgets": {},
     "nuid": "b1396e19-d5bb-40ce-8bf3-568a2e991da2",
     "showTitle": false,
     "title": ""
    }
   },
   "source": [
    "## Carga dos dados de localidades do estado de SP"
   ]
  },
  {
   "cell_type": "code",
   "execution_count": 0,
   "metadata": {
    "application/vnd.databricks.v1+cell": {
     "cellMetadata": {
      "byteLimit": 2048000,
      "rowLimit": 10000
     },
     "inputWidgets": {},
     "nuid": "782830b7-4ed3-41e9-961d-6da7642e2522",
     "showTitle": false,
     "title": ""
    }
   },
   "outputs": [],
   "source": [
    "url_localidade = 'https://servicodados.ibge.gov.br/api/v1/localidades/estados/35/distritos'\n",
    "\n",
    "df_localidade = spark.read.json(sc.parallelize(load_data_ibge(url_localidade)))\n",
    "df_localidade = df_localidade.select(col(\"municipio.nome\").alias(\"municipio\"),\n",
    "                          col(\"municipio.microrregiao.nome\").alias(\"microrregiao\"),\n",
    "                          col(\"municipio.microrregiao.mesorregiao.nome\").alias(\"mesorregiao\"),\n",
    "                          col(\"municipio.microrregiao.mesorregiao.UF.id\").alias(\"id_estado\"),\n",
    "                          col(\"municipio.microrregiao.mesorregiao.UF.nome\").alias(\"estado\"),\n",
    "                          col(\"municipio.microrregiao.mesorregiao.UF.regiao.nome\").alias(\"regiao\"),\n",
    "                          col(\"municipio.microrregiao.mesorregiao.UF.regiao.sigla\").alias(\"sigla_regiao\"),\n",
    "                          col(\"municipio.microrregiao.mesorregiao.UF.sigla\").alias(\"sigla_estado\"),\n",
    "                          col(\"nome\").alias(\"bairro\"))\n",
    "# display(df_localidade)\n",
    "df_localidade.createOrReplaceTempView(\"dim_localidade\")"
   ]
  },
  {
   "cell_type": "markdown",
   "metadata": {
    "application/vnd.databricks.v1+cell": {
     "cellMetadata": {
      "byteLimit": 2048000,
      "rowLimit": 10000
     },
     "inputWidgets": {},
     "nuid": "17545731-bc84-469d-b0cc-7ff6c2d4ec0e",
     "showTitle": false,
     "title": ""
    }
   },
   "source": [
    "## Carga dos dados de IDH do estado de SP"
   ]
  },
  {
   "cell_type": "code",
   "execution_count": 0,
   "metadata": {
    "application/vnd.databricks.v1+cell": {
     "cellMetadata": {
      "byteLimit": 2048000,
      "rowLimit": 10000
     },
     "inputWidgets": {},
     "nuid": "050a39c7-2bb1-4b17-a33d-d68795cffead",
     "showTitle": false,
     "title": ""
    }
   },
   "outputs": [],
   "source": [
    "url_idh = 'https://servicodados.ibge.gov.br/api/v1/pesquisas/-/indicadores/30255/resultados/35'\n",
    "df_idh = spark.createDataFrame(load_data_ibge(url_idh))\n",
    "df_idh = df_idh.select(explode(\"res\").alias(\"element\"))\n",
    "\n",
    "# Registre a função UDF\n",
    "parse_json_udf = udf(parse_json_string, MapType(StringType(), StringType()))\n",
    "\n",
    "# Aplicar a função UDF para criar colunas 'res_dict' e 'notas_dict'\n",
    "df_idh = df_idh.withColumn(\"res_dict\", parse_json_udf(col(\"element.res\")))\n",
    "df_idh = df_idh.withColumn(\"notas_dict\", parse_json_udf(col(\"element.notas\")))\n",
    "\n",
    "# Criar colunas para cada atributo\n",
    "for year in range(1991, 2022):\n",
    "    df_idh = df_idh.withColumn(f\"res_{year}\", col(\"res_dict\").getItem(str(year)).cast(DoubleType()))\n",
    "    df_idh = df_idh.withColumn(f\"notas_{year}\", col(\"notas_dict\").getItem(str(year)).cast(DoubleType()))\n",
    "\n",
    "df_idh = df_idh.withColumn(\"localidade\", col(\"element\").getItem(\"localidade\").cast(IntegerType()))\n",
    "df_idh = df_idh.select(\"localidade\" ,\"res_2016\", \"res_2017\", \"res_2018\", \"res_2019\", \"res_2020\", \"res_2021\") \n",
    "# display(df_idh)\n",
    "df_idh.createOrReplaceTempView(\"dim_idh\")"
   ]
  },
  {
   "cell_type": "markdown",
   "metadata": {
    "application/vnd.databricks.v1+cell": {
     "cellMetadata": {
      "byteLimit": 2048000,
      "rowLimit": 10000
     },
     "inputWidgets": {},
     "nuid": "d52b161d-8f45-4690-9b97-52e0550e71e9",
     "showTitle": false,
     "title": ""
    }
   },
   "source": [
    "## Carga dos dados de valor adicionado da indústria em proporção do PIB e per capita do estado de SP"
   ]
  },
  {
   "cell_type": "code",
   "execution_count": 0,
   "metadata": {
    "application/vnd.databricks.v1+cell": {
     "cellMetadata": {
      "byteLimit": 2048000,
      "rowLimit": 10000
     },
     "inputWidgets": {},
     "nuid": "e9d32671-a448-4e98-8298-d8d390b62772",
     "showTitle": false,
     "title": ""
    }
   },
   "outputs": [],
   "source": [
    "url_pib = 'https://apisidra.ibge.gov.br/values/t/6587/n1/all/n3/all/v/9312/p/last%203/d/v9312%201'\n",
    "df_pib = spark.read.json(sc.parallelize(load_data_ibge(url_pib)))\n",
    "df_pib = (\n",
    "    df_pib\n",
    "    .withColumnRenamed(\"D1C\", \"brasil_unidade_federacao_codigo\")\n",
    "    .withColumnRenamed(\"D1N\", \"brasil_unidade_federacao\")\n",
    "    .withColumnRenamed(\"D2C\", \"variavel_codigo\")\n",
    "    .withColumnRenamed(\"D2N\", \"variavel\")\n",
    "    .withColumnRenamed(\"D3C\", \"ano_codigo\")\n",
    "    .withColumnRenamed(\"D3N\", \"ano\")\n",
    "    .withColumnRenamed(\"MC\", \"unidade_medida_codigo\")\n",
    "    .withColumnRenamed(\"MN\", \"unidade_medida\")\n",
    "    .withColumnRenamed(\"NC\", \"nivel_territorial_codigo\")\n",
    "    .withColumnRenamed(\"NN\", \"nivel_territorial\")\n",
    "    .withColumnRenamed(\"V\", \"valor\")\n",
    ")\n",
    "df_pib = df_pib.filter(col(\"brasil_unidade_federacao_codigo\") != 1)\n",
    "df_pib.createOrReplaceTempView(\"dim_pib\")"
   ]
  },
  {
   "cell_type": "markdown",
   "metadata": {
    "application/vnd.databricks.v1+cell": {
     "cellMetadata": {
      "byteLimit": 2048000,
      "rowLimit": 10000
     },
     "inputWidgets": {},
     "nuid": "e9fe1d7a-d366-40c4-af69-af25f4571b22",
     "showTitle": false,
     "title": ""
    }
   },
   "source": [
    "## Carga dos dados População Projetada do estado de SP"
   ]
  },
  {
   "cell_type": "code",
   "execution_count": 0,
   "metadata": {
    "application/vnd.databricks.v1+cell": {
     "cellMetadata": {
      "byteLimit": 2048000,
      "rowLimit": 10000
     },
     "inputWidgets": {},
     "nuid": "fff0d848-267e-451d-a3c9-daa15245fb63",
     "showTitle": false,
     "title": ""
    }
   },
   "outputs": [],
   "source": [
    "url_populacao = 'https://servicodados.ibge.gov.br/api/v1/pesquisas/-/indicadores/49645/resultados/35'\n",
    "df_populacao = spark.createDataFrame(load_data_ibge(url_populacao))\n",
    "df_populacao = df_populacao.select(explode(\"res\").alias(\"element\"))\n",
    "\n",
    "# Registre a função UDF\n",
    "parse_json_udf = udf(parse_json_string, MapType(StringType(), StringType()))\n",
    "\n",
    "# Aplicar a função UDF para criar colunas 'res_dict' e 'notas_dict'\n",
    "df_populacao = df_populacao.withColumn(\"res_dict\", parse_json_udf(col(\"element.res\")))\n",
    "df_populacao = df_populacao.withColumn(\"notas_dict\", parse_json_udf(col(\"element.notas\")))\n",
    "\n",
    "# Criar colunas para cada atributo\n",
    "for year in range(2013, 2060):\n",
    "    df_populacao = df_populacao.withColumn(f\"res_{year}\", col(\"res_dict\").getItem(str(year)).cast(DoubleType()))\n",
    "    df_populacao = df_populacao.withColumn(f\"notas_{year}\", col(\"notas_dict\").getItem(str(year)).cast(DoubleType()))\n",
    "\n",
    "df_populacao = df_populacao.withColumn(\"localidade\", col(\"element\").getItem(\"localidade\").cast(IntegerType()))\n",
    "df_populacao = df_populacao.select(\"localidade\" ,\"res_2016\", \"res_2017\", \"res_2018\", \"res_2019\", \"res_2020\", \"res_2021\") \n",
    "df_populacao.createOrReplaceTempView(\"dim_populacao\")"
   ]
  },
  {
   "cell_type": "markdown",
   "metadata": {
    "application/vnd.databricks.v1+cell": {
     "cellMetadata": {
      "byteLimit": 2048000,
      "rowLimit": 10000
     },
     "inputWidgets": {},
     "nuid": "a30c0a6b-cbd5-4cc6-8f35-c972e4513498",
     "showTitle": false,
     "title": ""
    }
   },
   "source": [
    "## Criação da tabela fato, indicadores do estado de SP"
   ]
  },
  {
   "cell_type": "code",
   "execution_count": 0,
   "metadata": {
    "application/vnd.databricks.v1+cell": {
     "cellMetadata": {
      "byteLimit": 2048000,
      "implicitDf": true,
      "rowLimit": 10000
     },
     "inputWidgets": {},
     "nuid": "5c1fa2f3-6393-49ff-a326-efb4c8afc394",
     "showTitle": false,
     "title": ""
    }
   },
   "outputs": [],
   "source": [
    "df_indicadores_sp = spark.sql(\"\"\"\n",
    "SELECT id_estado \n",
    "       ,estado\n",
    "       ,idh.res_2016 idh_2016\n",
    "       ,idh.res_2017 idh_2017\n",
    "       ,idh.res_2018 idh_2018\n",
    "       ,idh.res_2019 idh_2019\n",
    "       ,idh.res_2020 idh_2020\n",
    "       ,idh.res_2021 idh_2021\n",
    "       ,pib.valor pib\n",
    "       ,pib.ano ano_pib\n",
    "       ,popu.res_2016 popu_2016\n",
    "       ,popu.res_2017 popu_2017\n",
    "       ,popu.res_2018 popu_2018\n",
    "       ,popu.res_2019 popu_2019\n",
    "       ,popu.res_2020 popu_2020\n",
    "       ,popu.res_2021 popu_2021\n",
    "\n",
    "FROM   dim_localidade loca\n",
    "inner  join dim_idh   idh on idh.localidade = loca.id_estado\n",
    "inner  join dim_pib   pib on pib.brasil_unidade_federacao_codigo = loca.id_estado\n",
    "inner  join dim_populacao popu on popu.localidade = loca.id_estado \n",
    "WHERE  loca.municipio = 'São Paulo'\n",
    "       AND pib.ano IN(2016, 2017, 2018, 2019, 2020, 2021)\n",
    "GROUP  BY id_estado \n",
    "          ,estado\n",
    "          ,idh.res_2016\n",
    "          ,idh.res_2017\n",
    "          ,idh.res_2018\n",
    "          ,idh.res_2019\n",
    "          ,idh.res_2020\n",
    "          ,idh.res_2021 \n",
    "          ,pib.valor\n",
    "          ,pib.ano\n",
    "          ,popu.res_2016\n",
    "          ,popu.res_2017\n",
    "          ,popu.res_2018\n",
    "          ,popu.res_2019\n",
    "          ,popu.res_2020\n",
    "          ,popu.res_2021\"\"\")\n",
    "df_indicadores_sp.createOrReplaceTempView(\"tblfato_indicador_sp\")"
   ]
  },
  {
   "cell_type": "code",
   "execution_count": 0,
   "metadata": {
    "application/vnd.databricks.v1+cell": {
     "cellMetadata": {
      "byteLimit": 2048000,
      "implicitDf": true,
      "rowLimit": 10000
     },
     "inputWidgets": {},
     "nuid": "8ec65680-01b3-4e37-bcb7-0cf1693347b5",
     "showTitle": false,
     "title": ""
    }
   },
   "outputs": [
    {
     "output_type": "display_data",
     "data": {
      "text/html": [
       "<style scoped>\n",
       "  .table-result-container {\n",
       "    max-height: 300px;\n",
       "    overflow: auto;\n",
       "  }\n",
       "  table, th, td {\n",
       "    border: 1px solid black;\n",
       "    border-collapse: collapse;\n",
       "  }\n",
       "  th, td {\n",
       "    padding: 5px;\n",
       "  }\n",
       "  th {\n",
       "    text-align: left;\n",
       "  }\n",
       "</style><div class='table-result-container'><table class='table-result'><thead style='background-color: white'><tr><th>id_estado</th><th>estado</th><th>idh_2016</th><th>idh_2017</th><th>idh_2018</th><th>idh_2019</th><th>idh_2020</th><th>idh_2021</th><th>pib</th><th>ano_pib</th><th>popu_2016</th><th>popu_2017</th><th>popu_2018</th><th>popu_2019</th><th>popu_2020</th><th>popu_2021</th></tr></thead><tbody><tr><td>35</td><td>São Paulo</td><td>0.835</td><td>0.831</td><td>0.837</td><td>0.845</td><td>0.823</td><td>0.806</td><td>13.4</td><td>2020</td><td>4.4760305E7</td><td>4.5149603E7</td><td>4.5538936E7</td><td>4.5919049E7</td><td>4.6289333E7</td><td>4.6649132E7</td></tr><tr><td>35</td><td>São Paulo</td><td>0.835</td><td>0.831</td><td>0.837</td><td>0.845</td><td>0.823</td><td>0.806</td><td>13.6</td><td>2019</td><td>4.4760305E7</td><td>4.5149603E7</td><td>4.5538936E7</td><td>4.5919049E7</td><td>4.6289333E7</td><td>4.6649132E7</td></tr><tr><td>35</td><td>São Paulo</td><td>0.835</td><td>0.831</td><td>0.837</td><td>0.845</td><td>0.823</td><td>0.806</td><td>13.2</td><td>2018</td><td>4.4760305E7</td><td>4.5149603E7</td><td>4.5538936E7</td><td>4.5919049E7</td><td>4.6289333E7</td><td>4.6649132E7</td></tr></tbody></table></div>"
      ]
     },
     "metadata": {
      "application/vnd.databricks.v1+output": {
       "addedWidgets": {},
       "aggData": [],
       "aggError": "",
       "aggOverflow": false,
       "aggSchema": [],
       "aggSeriesLimitReached": false,
       "aggType": "",
       "arguments": {},
       "columnCustomDisplayInfos": {},
       "data": [
        [
         35,
         "São Paulo",
         0.835,
         0.831,
         0.837,
         0.845,
         0.823,
         0.806,
         "13.4",
         "2020",
         4.4760305E7,
         4.5149603E7,
         4.5538936E7,
         4.5919049E7,
         4.6289333E7,
         4.6649132E7
        ],
        [
         35,
         "São Paulo",
         0.835,
         0.831,
         0.837,
         0.845,
         0.823,
         0.806,
         "13.6",
         "2019",
         4.4760305E7,
         4.5149603E7,
         4.5538936E7,
         4.5919049E7,
         4.6289333E7,
         4.6649132E7
        ],
        [
         35,
         "São Paulo",
         0.835,
         0.831,
         0.837,
         0.845,
         0.823,
         0.806,
         "13.2",
         "2018",
         4.4760305E7,
         4.5149603E7,
         4.5538936E7,
         4.5919049E7,
         4.6289333E7,
         4.6649132E7
        ]
       ],
       "datasetInfos": [],
       "dbfsResultPath": null,
       "isJsonSchema": true,
       "metadata": {},
       "overflow": false,
       "plotOptions": {
        "customPlotOptions": {},
        "displayType": "table",
        "pivotAggregation": null,
        "pivotColumns": null,
        "xColumns": null,
        "yColumns": null
       },
       "removedWidgets": [],
       "schema": [
        {
         "metadata": "{}",
         "name": "id_estado",
         "type": "\"long\""
        },
        {
         "metadata": "{}",
         "name": "estado",
         "type": "\"string\""
        },
        {
         "metadata": "{}",
         "name": "idh_2016",
         "type": "\"double\""
        },
        {
         "metadata": "{}",
         "name": "idh_2017",
         "type": "\"double\""
        },
        {
         "metadata": "{}",
         "name": "idh_2018",
         "type": "\"double\""
        },
        {
         "metadata": "{}",
         "name": "idh_2019",
         "type": "\"double\""
        },
        {
         "metadata": "{}",
         "name": "idh_2020",
         "type": "\"double\""
        },
        {
         "metadata": "{}",
         "name": "idh_2021",
         "type": "\"double\""
        },
        {
         "metadata": "{}",
         "name": "pib",
         "type": "\"string\""
        },
        {
         "metadata": "{}",
         "name": "ano_pib",
         "type": "\"string\""
        },
        {
         "metadata": "{}",
         "name": "popu_2016",
         "type": "\"double\""
        },
        {
         "metadata": "{}",
         "name": "popu_2017",
         "type": "\"double\""
        },
        {
         "metadata": "{}",
         "name": "popu_2018",
         "type": "\"double\""
        },
        {
         "metadata": "{}",
         "name": "popu_2019",
         "type": "\"double\""
        },
        {
         "metadata": "{}",
         "name": "popu_2020",
         "type": "\"double\""
        },
        {
         "metadata": "{}",
         "name": "popu_2021",
         "type": "\"double\""
        }
       ],
       "type": "table"
      }
     },
     "output_type": "display_data"
    }
   ],
   "source": [
    "%sql\n",
    "SELECT * \n",
    "FROM tblfato_indicador_sp"
   ]
  },
  {
   "cell_type": "markdown",
   "metadata": {
    "application/vnd.databricks.v1+cell": {
     "cellMetadata": {},
     "inputWidgets": {},
     "nuid": "7d04f222-5380-4dbf-bf9b-efb0cd5bba3b",
     "showTitle": false,
     "title": ""
    }
   },
   "source": [
    "## Valor adicionado da indústria de transformação em proporção dos PIB dos estados"
   ]
  },
  {
   "cell_type": "code",
   "execution_count": 0,
   "metadata": {
    "application/vnd.databricks.v1+cell": {
     "cellMetadata": {
      "byteLimit": 2048000,
      "implicitDf": true,
      "rowLimit": 10000
     },
     "inputWidgets": {},
     "nuid": "65f71cb6-d8bb-4e7b-99b3-0061b8d4fab8",
     "showTitle": false,
     "title": ""
    }
   },
   "outputs": [
    {
     "output_type": "display_data",
     "data": {
      "text/html": [
       "<style scoped>\n",
       "  .table-result-container {\n",
       "    max-height: 300px;\n",
       "    overflow: auto;\n",
       "  }\n",
       "  table, th, td {\n",
       "    border: 1px solid black;\n",
       "    border-collapse: collapse;\n",
       "  }\n",
       "  th, td {\n",
       "    padding: 5px;\n",
       "  }\n",
       "  th {\n",
       "    text-align: left;\n",
       "  }\n",
       "</style><div class='table-result-container'><table class='table-result'><thead style='background-color: white'><tr><th>brasil_unidade_federacao_codigo</th><th>brasil_unidade_federacao</th><th>variavel_codigo</th><th>variavel</th><th>ano_codigo</th><th>ano</th><th>unidade_medida_codigo</th><th>unidade_medida</th><th>nivel_territorial_codigo</th><th>nivel_territorial</th><th>valor</th></tr></thead><tbody><tr><td>11</td><td>Rondônia</td><td>9312</td><td>Valor adicionado da indústria de transformação em proporção do PIB</td><td>2018</td><td>2018</td><td>2</td><td>%</td><td>3</td><td>Unidade da Federação</td><td>8.0</td></tr><tr><td>11</td><td>Rondônia</td><td>9312</td><td>Valor adicionado da indústria de transformação em proporção do PIB</td><td>2019</td><td>2019</td><td>2</td><td>%</td><td>3</td><td>Unidade da Federação</td><td>7.9</td></tr><tr><td>11</td><td>Rondônia</td><td>9312</td><td>Valor adicionado da indústria de transformação em proporção do PIB</td><td>2020</td><td>2020</td><td>2</td><td>%</td><td>3</td><td>Unidade da Federação</td><td>8.0</td></tr><tr><td>12</td><td>Acre</td><td>9312</td><td>Valor adicionado da indústria de transformação em proporção do PIB</td><td>2018</td><td>2018</td><td>2</td><td>%</td><td>3</td><td>Unidade da Federação</td><td>4.1</td></tr><tr><td>12</td><td>Acre</td><td>9312</td><td>Valor adicionado da indústria de transformação em proporção do PIB</td><td>2019</td><td>2019</td><td>2</td><td>%</td><td>3</td><td>Unidade da Federação</td><td>3.9</td></tr><tr><td>12</td><td>Acre</td><td>9312</td><td>Valor adicionado da indústria de transformação em proporção do PIB</td><td>2020</td><td>2020</td><td>2</td><td>%</td><td>3</td><td>Unidade da Federação</td><td>3.8</td></tr><tr><td>13</td><td>Amazonas</td><td>9312</td><td>Valor adicionado da indústria de transformação em proporção do PIB</td><td>2018</td><td>2018</td><td>2</td><td>%</td><td>3</td><td>Unidade da Federação</td><td>22.8</td></tr><tr><td>13</td><td>Amazonas</td><td>9312</td><td>Valor adicionado da indústria de transformação em proporção do PIB</td><td>2019</td><td>2019</td><td>2</td><td>%</td><td>3</td><td>Unidade da Federação</td><td>22.6</td></tr><tr><td>13</td><td>Amazonas</td><td>9312</td><td>Valor adicionado da indústria de transformação em proporção do PIB</td><td>2020</td><td>2020</td><td>2</td><td>%</td><td>3</td><td>Unidade da Federação</td><td>23.4</td></tr><tr><td>14</td><td>Roraima</td><td>9312</td><td>Valor adicionado da indústria de transformação em proporção do PIB</td><td>2018</td><td>2018</td><td>2</td><td>%</td><td>3</td><td>Unidade da Federação</td><td>1.2</td></tr><tr><td>14</td><td>Roraima</td><td>9312</td><td>Valor adicionado da indústria de transformação em proporção do PIB</td><td>2019</td><td>2019</td><td>2</td><td>%</td><td>3</td><td>Unidade da Federação</td><td>1.2</td></tr><tr><td>14</td><td>Roraima</td><td>9312</td><td>Valor adicionado da indústria de transformação em proporção do PIB</td><td>2020</td><td>2020</td><td>2</td><td>%</td><td>3</td><td>Unidade da Federação</td><td>1.0</td></tr><tr><td>15</td><td>Pará</td><td>9312</td><td>Valor adicionado da indústria de transformação em proporção do PIB</td><td>2018</td><td>2018</td><td>2</td><td>%</td><td>3</td><td>Unidade da Federação</td><td>3.6</td></tr><tr><td>15</td><td>Pará</td><td>9312</td><td>Valor adicionado da indústria de transformação em proporção do PIB</td><td>2019</td><td>2019</td><td>2</td><td>%</td><td>3</td><td>Unidade da Federação</td><td>3.9</td></tr><tr><td>15</td><td>Pará</td><td>9312</td><td>Valor adicionado da indústria de transformação em proporção do PIB</td><td>2020</td><td>2020</td><td>2</td><td>%</td><td>3</td><td>Unidade da Federação</td><td>3.6</td></tr><tr><td>16</td><td>Amapá</td><td>9312</td><td>Valor adicionado da indústria de transformação em proporção do PIB</td><td>2018</td><td>2018</td><td>2</td><td>%</td><td>3</td><td>Unidade da Federação</td><td>1.7</td></tr><tr><td>16</td><td>Amapá</td><td>9312</td><td>Valor adicionado da indústria de transformação em proporção do PIB</td><td>2019</td><td>2019</td><td>2</td><td>%</td><td>3</td><td>Unidade da Federação</td><td>1.8</td></tr><tr><td>16</td><td>Amapá</td><td>9312</td><td>Valor adicionado da indústria de transformação em proporção do PIB</td><td>2020</td><td>2020</td><td>2</td><td>%</td><td>3</td><td>Unidade da Federação</td><td>2.1</td></tr><tr><td>17</td><td>Tocantins</td><td>9312</td><td>Valor adicionado da indústria de transformação em proporção do PIB</td><td>2018</td><td>2018</td><td>2</td><td>%</td><td>3</td><td>Unidade da Federação</td><td>2.7</td></tr><tr><td>17</td><td>Tocantins</td><td>9312</td><td>Valor adicionado da indústria de transformação em proporção do PIB</td><td>2019</td><td>2019</td><td>2</td><td>%</td><td>3</td><td>Unidade da Federação</td><td>2.7</td></tr><tr><td>17</td><td>Tocantins</td><td>9312</td><td>Valor adicionado da indústria de transformação em proporção do PIB</td><td>2020</td><td>2020</td><td>2</td><td>%</td><td>3</td><td>Unidade da Federação</td><td>2.6</td></tr><tr><td>21</td><td>Maranhão</td><td>9312</td><td>Valor adicionado da indústria de transformação em proporção do PIB</td><td>2018</td><td>2018</td><td>2</td><td>%</td><td>3</td><td>Unidade da Federação</td><td>4.3</td></tr><tr><td>21</td><td>Maranhão</td><td>9312</td><td>Valor adicionado da indústria de transformação em proporção do PIB</td><td>2019</td><td>2019</td><td>2</td><td>%</td><td>3</td><td>Unidade da Federação</td><td>3.9</td></tr><tr><td>21</td><td>Maranhão</td><td>9312</td><td>Valor adicionado da indústria de transformação em proporção do PIB</td><td>2020</td><td>2020</td><td>2</td><td>%</td><td>3</td><td>Unidade da Federação</td><td>3.9</td></tr><tr><td>22</td><td>Piauí</td><td>9312</td><td>Valor adicionado da indústria de transformação em proporção do PIB</td><td>2018</td><td>2018</td><td>2</td><td>%</td><td>3</td><td>Unidade da Federação</td><td>5.1</td></tr><tr><td>22</td><td>Piauí</td><td>9312</td><td>Valor adicionado da indústria de transformação em proporção do PIB</td><td>2019</td><td>2019</td><td>2</td><td>%</td><td>3</td><td>Unidade da Federação</td><td>5.2</td></tr><tr><td>22</td><td>Piauí</td><td>9312</td><td>Valor adicionado da indústria de transformação em proporção do PIB</td><td>2020</td><td>2020</td><td>2</td><td>%</td><td>3</td><td>Unidade da Federação</td><td>4.4</td></tr><tr><td>23</td><td>Ceará</td><td>9312</td><td>Valor adicionado da indústria de transformação em proporção do PIB</td><td>2018</td><td>2018</td><td>2</td><td>%</td><td>3</td><td>Unidade da Federação</td><td>7.1</td></tr><tr><td>23</td><td>Ceará</td><td>9312</td><td>Valor adicionado da indústria de transformação em proporção do PIB</td><td>2019</td><td>2019</td><td>2</td><td>%</td><td>3</td><td>Unidade da Federação</td><td>7.2</td></tr><tr><td>23</td><td>Ceará</td><td>9312</td><td>Valor adicionado da indústria de transformação em proporção do PIB</td><td>2020</td><td>2020</td><td>2</td><td>%</td><td>3</td><td>Unidade da Federação</td><td>6.7</td></tr><tr><td>24</td><td>Rio Grande do Norte</td><td>9312</td><td>Valor adicionado da indústria de transformação em proporção do PIB</td><td>2018</td><td>2018</td><td>2</td><td>%</td><td>3</td><td>Unidade da Federação</td><td>4.9</td></tr><tr><td>24</td><td>Rio Grande do Norte</td><td>9312</td><td>Valor adicionado da indústria de transformação em proporção do PIB</td><td>2019</td><td>2019</td><td>2</td><td>%</td><td>3</td><td>Unidade da Federação</td><td>4.8</td></tr><tr><td>24</td><td>Rio Grande do Norte</td><td>9312</td><td>Valor adicionado da indústria de transformação em proporção do PIB</td><td>2020</td><td>2020</td><td>2</td><td>%</td><td>3</td><td>Unidade da Federação</td><td>5.0</td></tr><tr><td>25</td><td>Paraíba</td><td>9312</td><td>Valor adicionado da indústria de transformação em proporção do PIB</td><td>2018</td><td>2018</td><td>2</td><td>%</td><td>3</td><td>Unidade da Federação</td><td>7.6</td></tr><tr><td>25</td><td>Paraíba</td><td>9312</td><td>Valor adicionado da indústria de transformação em proporção do PIB</td><td>2019</td><td>2019</td><td>2</td><td>%</td><td>3</td><td>Unidade da Federação</td><td>7.4</td></tr><tr><td>25</td><td>Paraíba</td><td>9312</td><td>Valor adicionado da indústria de transformação em proporção do PIB</td><td>2020</td><td>2020</td><td>2</td><td>%</td><td>3</td><td>Unidade da Federação</td><td>7.2</td></tr><tr><td>26</td><td>Pernambuco</td><td>9312</td><td>Valor adicionado da indústria de transformação em proporção do PIB</td><td>2018</td><td>2018</td><td>2</td><td>%</td><td>3</td><td>Unidade da Federação</td><td>9.1</td></tr><tr><td>26</td><td>Pernambuco</td><td>9312</td><td>Valor adicionado da indústria de transformação em proporção do PIB</td><td>2019</td><td>2019</td><td>2</td><td>%</td><td>3</td><td>Unidade da Federação</td><td>9.1</td></tr><tr><td>26</td><td>Pernambuco</td><td>9312</td><td>Valor adicionado da indústria de transformação em proporção do PIB</td><td>2020</td><td>2020</td><td>2</td><td>%</td><td>3</td><td>Unidade da Federação</td><td>9.6</td></tr><tr><td>27</td><td>Alagoas</td><td>9312</td><td>Valor adicionado da indústria de transformação em proporção do PIB</td><td>2018</td><td>2018</td><td>2</td><td>%</td><td>3</td><td>Unidade da Federação</td><td>5.5</td></tr><tr><td>27</td><td>Alagoas</td><td>9312</td><td>Valor adicionado da indústria de transformação em proporção do PIB</td><td>2019</td><td>2019</td><td>2</td><td>%</td><td>3</td><td>Unidade da Federação</td><td>5.1</td></tr><tr><td>27</td><td>Alagoas</td><td>9312</td><td>Valor adicionado da indústria de transformação em proporção do PIB</td><td>2020</td><td>2020</td><td>2</td><td>%</td><td>3</td><td>Unidade da Federação</td><td>5.1</td></tr><tr><td>28</td><td>Sergipe</td><td>9312</td><td>Valor adicionado da indústria de transformação em proporção do PIB</td><td>2018</td><td>2018</td><td>2</td><td>%</td><td>3</td><td>Unidade da Federação</td><td>3.9</td></tr><tr><td>28</td><td>Sergipe</td><td>9312</td><td>Valor adicionado da indústria de transformação em proporção do PIB</td><td>2019</td><td>2019</td><td>2</td><td>%</td><td>3</td><td>Unidade da Federação</td><td>3.7</td></tr><tr><td>28</td><td>Sergipe</td><td>9312</td><td>Valor adicionado da indústria de transformação em proporção do PIB</td><td>2020</td><td>2020</td><td>2</td><td>%</td><td>3</td><td>Unidade da Federação</td><td>3.5</td></tr><tr><td>29</td><td>Bahia</td><td>9312</td><td>Valor adicionado da indústria de transformação em proporção do PIB</td><td>2018</td><td>2018</td><td>2</td><td>%</td><td>3</td><td>Unidade da Federação</td><td>9.3</td></tr><tr><td>29</td><td>Bahia</td><td>9312</td><td>Valor adicionado da indústria de transformação em proporção do PIB</td><td>2019</td><td>2019</td><td>2</td><td>%</td><td>3</td><td>Unidade da Federação</td><td>8.7</td></tr><tr><td>29</td><td>Bahia</td><td>9312</td><td>Valor adicionado da indústria de transformação em proporção do PIB</td><td>2020</td><td>2020</td><td>2</td><td>%</td><td>3</td><td>Unidade da Federação</td><td>8.8</td></tr><tr><td>31</td><td>Minas Gerais</td><td>9312</td><td>Valor adicionado da indústria de transformação em proporção do PIB</td><td>2018</td><td>2018</td><td>2</td><td>%</td><td>3</td><td>Unidade da Federação</td><td>12.3</td></tr><tr><td>31</td><td>Minas Gerais</td><td>9312</td><td>Valor adicionado da indústria de transformação em proporção do PIB</td><td>2019</td><td>2019</td><td>2</td><td>%</td><td>3</td><td>Unidade da Federação</td><td>12.3</td></tr><tr><td>31</td><td>Minas Gerais</td><td>9312</td><td>Valor adicionado da indústria de transformação em proporção do PIB</td><td>2020</td><td>2020</td><td>2</td><td>%</td><td>3</td><td>Unidade da Federação</td><td>12.3</td></tr><tr><td>32</td><td>Espírito Santo</td><td>9312</td><td>Valor adicionado da indústria de transformação em proporção do PIB</td><td>2018</td><td>2018</td><td>2</td><td>%</td><td>3</td><td>Unidade da Federação</td><td>7.0</td></tr><tr><td>32</td><td>Espírito Santo</td><td>9312</td><td>Valor adicionado da indústria de transformação em proporção do PIB</td><td>2019</td><td>2019</td><td>2</td><td>%</td><td>3</td><td>Unidade da Federação</td><td>6.3</td></tr><tr><td>32</td><td>Espírito Santo</td><td>9312</td><td>Valor adicionado da indústria de transformação em proporção do PIB</td><td>2020</td><td>2020</td><td>2</td><td>%</td><td>3</td><td>Unidade da Federação</td><td>6.2</td></tr><tr><td>33</td><td>Rio de Janeiro</td><td>9312</td><td>Valor adicionado da indústria de transformação em proporção do PIB</td><td>2018</td><td>2018</td><td>2</td><td>%</td><td>3</td><td>Unidade da Federação</td><td>5.9</td></tr><tr><td>33</td><td>Rio de Janeiro</td><td>9312</td><td>Valor adicionado da indústria de transformação em proporção do PIB</td><td>2019</td><td>2019</td><td>2</td><td>%</td><td>3</td><td>Unidade da Federação</td><td>5.4</td></tr><tr><td>33</td><td>Rio de Janeiro</td><td>9312</td><td>Valor adicionado da indústria de transformação em proporção do PIB</td><td>2020</td><td>2020</td><td>2</td><td>%</td><td>3</td><td>Unidade da Federação</td><td>5.3</td></tr><tr><td>35</td><td>São Paulo</td><td>9312</td><td>Valor adicionado da indústria de transformação em proporção do PIB</td><td>2018</td><td>2018</td><td>2</td><td>%</td><td>3</td><td>Unidade da Federação</td><td>13.2</td></tr><tr><td>35</td><td>São Paulo</td><td>9312</td><td>Valor adicionado da indústria de transformação em proporção do PIB</td><td>2019</td><td>2019</td><td>2</td><td>%</td><td>3</td><td>Unidade da Federação</td><td>13.6</td></tr><tr><td>35</td><td>São Paulo</td><td>9312</td><td>Valor adicionado da indústria de transformação em proporção do PIB</td><td>2020</td><td>2020</td><td>2</td><td>%</td><td>3</td><td>Unidade da Federação</td><td>13.4</td></tr><tr><td>41</td><td>Paraná</td><td>9312</td><td>Valor adicionado da indústria de transformação em proporção do PIB</td><td>2018</td><td>2018</td><td>2</td><td>%</td><td>3</td><td>Unidade da Federação</td><td>12.8</td></tr><tr><td>41</td><td>Paraná</td><td>9312</td><td>Valor adicionado da indústria de transformação em proporção do PIB</td><td>2019</td><td>2019</td><td>2</td><td>%</td><td>3</td><td>Unidade da Federação</td><td>13.2</td></tr><tr><td>41</td><td>Paraná</td><td>9312</td><td>Valor adicionado da indústria de transformação em proporção do PIB</td><td>2020</td><td>2020</td><td>2</td><td>%</td><td>3</td><td>Unidade da Federação</td><td>13.1</td></tr><tr><td>42</td><td>Santa Catarina</td><td>9312</td><td>Valor adicionado da indústria de transformação em proporção do PIB</td><td>2018</td><td>2018</td><td>2</td><td>%</td><td>3</td><td>Unidade da Federação</td><td>15.7</td></tr><tr><td>42</td><td>Santa Catarina</td><td>9312</td><td>Valor adicionado da indústria de transformação em proporção do PIB</td><td>2019</td><td>2019</td><td>2</td><td>%</td><td>3</td><td>Unidade da Federação</td><td>15.7</td></tr><tr><td>42</td><td>Santa Catarina</td><td>9312</td><td>Valor adicionado da indústria de transformação em proporção do PIB</td><td>2020</td><td>2020</td><td>2</td><td>%</td><td>3</td><td>Unidade da Federação</td><td>15.2</td></tr><tr><td>43</td><td>Rio Grande do Sul</td><td>9312</td><td>Valor adicionado da indústria de transformação em proporção do PIB</td><td>2018</td><td>2018</td><td>2</td><td>%</td><td>3</td><td>Unidade da Federação</td><td>13.6</td></tr><tr><td>43</td><td>Rio Grande do Sul</td><td>9312</td><td>Valor adicionado da indústria de transformação em proporção do PIB</td><td>2019</td><td>2019</td><td>2</td><td>%</td><td>3</td><td>Unidade da Federação</td><td>13.4</td></tr><tr><td>43</td><td>Rio Grande do Sul</td><td>9312</td><td>Valor adicionado da indústria de transformação em proporção do PIB</td><td>2020</td><td>2020</td><td>2</td><td>%</td><td>3</td><td>Unidade da Federação</td><td>13.1</td></tr><tr><td>50</td><td>Mato Grosso do Sul</td><td>9312</td><td>Valor adicionado da indústria de transformação em proporção do PIB</td><td>2018</td><td>2018</td><td>2</td><td>%</td><td>3</td><td>Unidade da Federação</td><td>9.2</td></tr><tr><td>50</td><td>Mato Grosso do Sul</td><td>9312</td><td>Valor adicionado da indústria de transformação em proporção do PIB</td><td>2019</td><td>2019</td><td>2</td><td>%</td><td>3</td><td>Unidade da Federação</td><td>9.1</td></tr><tr><td>50</td><td>Mato Grosso do Sul</td><td>9312</td><td>Valor adicionado da indústria de transformação em proporção do PIB</td><td>2020</td><td>2020</td><td>2</td><td>%</td><td>3</td><td>Unidade da Federação</td><td>9.5</td></tr><tr><td>51</td><td>Mato Grosso</td><td>9312</td><td>Valor adicionado da indústria de transformação em proporção do PIB</td><td>2018</td><td>2018</td><td>2</td><td>%</td><td>3</td><td>Unidade da Federação</td><td>8.6</td></tr><tr><td>51</td><td>Mato Grosso</td><td>9312</td><td>Valor adicionado da indústria de transformação em proporção do PIB</td><td>2019</td><td>2019</td><td>2</td><td>%</td><td>3</td><td>Unidade da Federação</td><td>8.2</td></tr><tr><td>51</td><td>Mato Grosso</td><td>9312</td><td>Valor adicionado da indústria de transformação em proporção do PIB</td><td>2020</td><td>2020</td><td>2</td><td>%</td><td>3</td><td>Unidade da Federação</td><td>7.7</td></tr><tr><td>52</td><td>Goiás</td><td>9312</td><td>Valor adicionado da indústria de transformação em proporção do PIB</td><td>2018</td><td>2018</td><td>2</td><td>%</td><td>3</td><td>Unidade da Federação</td><td>13.3</td></tr><tr><td>52</td><td>Goiás</td><td>9312</td><td>Valor adicionado da indústria de transformação em proporção do PIB</td><td>2019</td><td>2019</td><td>2</td><td>%</td><td>3</td><td>Unidade da Federação</td><td>13.7</td></tr><tr><td>52</td><td>Goiás</td><td>9312</td><td>Valor adicionado da indústria de transformação em proporção do PIB</td><td>2020</td><td>2020</td><td>2</td><td>%</td><td>3</td><td>Unidade da Federação</td><td>14.9</td></tr><tr><td>53</td><td>Distrito Federal</td><td>9312</td><td>Valor adicionado da indústria de transformação em proporção do PIB</td><td>2018</td><td>2018</td><td>2</td><td>%</td><td>3</td><td>Unidade da Federação</td><td>1.1</td></tr><tr><td>53</td><td>Distrito Federal</td><td>9312</td><td>Valor adicionado da indústria de transformação em proporção do PIB</td><td>2019</td><td>2019</td><td>2</td><td>%</td><td>3</td><td>Unidade da Federação</td><td>1.2</td></tr><tr><td>53</td><td>Distrito Federal</td><td>9312</td><td>Valor adicionado da indústria de transformação em proporção do PIB</td><td>2020</td><td>2020</td><td>2</td><td>%</td><td>3</td><td>Unidade da Federação</td><td>1.2</td></tr></tbody></table></div>"
      ]
     },
     "metadata": {
      "application/vnd.databricks.v1+output": {
       "addedWidgets": {},
       "aggData": [],
       "aggError": "",
       "aggOverflow": false,
       "aggSchema": [],
       "aggSeriesLimitReached": false,
       "aggType": "",
       "arguments": {},
       "columnCustomDisplayInfos": {},
       "data": [
        [
         "11",
         "Rondônia",
         "9312",
         "Valor adicionado da indústria de transformação em proporção do PIB",
         "2018",
         "2018",
         "2",
         "%",
         "3",
         "Unidade da Federação",
         "8.0"
        ],
        [
         "11",
         "Rondônia",
         "9312",
         "Valor adicionado da indústria de transformação em proporção do PIB",
         "2019",
         "2019",
         "2",
         "%",
         "3",
         "Unidade da Federação",
         "7.9"
        ],
        [
         "11",
         "Rondônia",
         "9312",
         "Valor adicionado da indústria de transformação em proporção do PIB",
         "2020",
         "2020",
         "2",
         "%",
         "3",
         "Unidade da Federação",
         "8.0"
        ],
        [
         "12",
         "Acre",
         "9312",
         "Valor adicionado da indústria de transformação em proporção do PIB",
         "2018",
         "2018",
         "2",
         "%",
         "3",
         "Unidade da Federação",
         "4.1"
        ],
        [
         "12",
         "Acre",
         "9312",
         "Valor adicionado da indústria de transformação em proporção do PIB",
         "2019",
         "2019",
         "2",
         "%",
         "3",
         "Unidade da Federação",
         "3.9"
        ],
        [
         "12",
         "Acre",
         "9312",
         "Valor adicionado da indústria de transformação em proporção do PIB",
         "2020",
         "2020",
         "2",
         "%",
         "3",
         "Unidade da Federação",
         "3.8"
        ],
        [
         "13",
         "Amazonas",
         "9312",
         "Valor adicionado da indústria de transformação em proporção do PIB",
         "2018",
         "2018",
         "2",
         "%",
         "3",
         "Unidade da Federação",
         "22.8"
        ],
        [
         "13",
         "Amazonas",
         "9312",
         "Valor adicionado da indústria de transformação em proporção do PIB",
         "2019",
         "2019",
         "2",
         "%",
         "3",
         "Unidade da Federação",
         "22.6"
        ],
        [
         "13",
         "Amazonas",
         "9312",
         "Valor adicionado da indústria de transformação em proporção do PIB",
         "2020",
         "2020",
         "2",
         "%",
         "3",
         "Unidade da Federação",
         "23.4"
        ],
        [
         "14",
         "Roraima",
         "9312",
         "Valor adicionado da indústria de transformação em proporção do PIB",
         "2018",
         "2018",
         "2",
         "%",
         "3",
         "Unidade da Federação",
         "1.2"
        ],
        [
         "14",
         "Roraima",
         "9312",
         "Valor adicionado da indústria de transformação em proporção do PIB",
         "2019",
         "2019",
         "2",
         "%",
         "3",
         "Unidade da Federação",
         "1.2"
        ],
        [
         "14",
         "Roraima",
         "9312",
         "Valor adicionado da indústria de transformação em proporção do PIB",
         "2020",
         "2020",
         "2",
         "%",
         "3",
         "Unidade da Federação",
         "1.0"
        ],
        [
         "15",
         "Pará",
         "9312",
         "Valor adicionado da indústria de transformação em proporção do PIB",
         "2018",
         "2018",
         "2",
         "%",
         "3",
         "Unidade da Federação",
         "3.6"
        ],
        [
         "15",
         "Pará",
         "9312",
         "Valor adicionado da indústria de transformação em proporção do PIB",
         "2019",
         "2019",
         "2",
         "%",
         "3",
         "Unidade da Federação",
         "3.9"
        ],
        [
         "15",
         "Pará",
         "9312",
         "Valor adicionado da indústria de transformação em proporção do PIB",
         "2020",
         "2020",
         "2",
         "%",
         "3",
         "Unidade da Federação",
         "3.6"
        ],
        [
         "16",
         "Amapá",
         "9312",
         "Valor adicionado da indústria de transformação em proporção do PIB",
         "2018",
         "2018",
         "2",
         "%",
         "3",
         "Unidade da Federação",
         "1.7"
        ],
        [
         "16",
         "Amapá",
         "9312",
         "Valor adicionado da indústria de transformação em proporção do PIB",
         "2019",
         "2019",
         "2",
         "%",
         "3",
         "Unidade da Federação",
         "1.8"
        ],
        [
         "16",
         "Amapá",
         "9312",
         "Valor adicionado da indústria de transformação em proporção do PIB",
         "2020",
         "2020",
         "2",
         "%",
         "3",
         "Unidade da Federação",
         "2.1"
        ],
        [
         "17",
         "Tocantins",
         "9312",
         "Valor adicionado da indústria de transformação em proporção do PIB",
         "2018",
         "2018",
         "2",
         "%",
         "3",
         "Unidade da Federação",
         "2.7"
        ],
        [
         "17",
         "Tocantins",
         "9312",
         "Valor adicionado da indústria de transformação em proporção do PIB",
         "2019",
         "2019",
         "2",
         "%",
         "3",
         "Unidade da Federação",
         "2.7"
        ],
        [
         "17",
         "Tocantins",
         "9312",
         "Valor adicionado da indústria de transformação em proporção do PIB",
         "2020",
         "2020",
         "2",
         "%",
         "3",
         "Unidade da Federação",
         "2.6"
        ],
        [
         "21",
         "Maranhão",
         "9312",
         "Valor adicionado da indústria de transformação em proporção do PIB",
         "2018",
         "2018",
         "2",
         "%",
         "3",
         "Unidade da Federação",
         "4.3"
        ],
        [
         "21",
         "Maranhão",
         "9312",
         "Valor adicionado da indústria de transformação em proporção do PIB",
         "2019",
         "2019",
         "2",
         "%",
         "3",
         "Unidade da Federação",
         "3.9"
        ],
        [
         "21",
         "Maranhão",
         "9312",
         "Valor adicionado da indústria de transformação em proporção do PIB",
         "2020",
         "2020",
         "2",
         "%",
         "3",
         "Unidade da Federação",
         "3.9"
        ],
        [
         "22",
         "Piauí",
         "9312",
         "Valor adicionado da indústria de transformação em proporção do PIB",
         "2018",
         "2018",
         "2",
         "%",
         "3",
         "Unidade da Federação",
         "5.1"
        ],
        [
         "22",
         "Piauí",
         "9312",
         "Valor adicionado da indústria de transformação em proporção do PIB",
         "2019",
         "2019",
         "2",
         "%",
         "3",
         "Unidade da Federação",
         "5.2"
        ],
        [
         "22",
         "Piauí",
         "9312",
         "Valor adicionado da indústria de transformação em proporção do PIB",
         "2020",
         "2020",
         "2",
         "%",
         "3",
         "Unidade da Federação",
         "4.4"
        ],
        [
         "23",
         "Ceará",
         "9312",
         "Valor adicionado da indústria de transformação em proporção do PIB",
         "2018",
         "2018",
         "2",
         "%",
         "3",
         "Unidade da Federação",
         "7.1"
        ],
        [
         "23",
         "Ceará",
         "9312",
         "Valor adicionado da indústria de transformação em proporção do PIB",
         "2019",
         "2019",
         "2",
         "%",
         "3",
         "Unidade da Federação",
         "7.2"
        ],
        [
         "23",
         "Ceará",
         "9312",
         "Valor adicionado da indústria de transformação em proporção do PIB",
         "2020",
         "2020",
         "2",
         "%",
         "3",
         "Unidade da Federação",
         "6.7"
        ],
        [
         "24",
         "Rio Grande do Norte",
         "9312",
         "Valor adicionado da indústria de transformação em proporção do PIB",
         "2018",
         "2018",
         "2",
         "%",
         "3",
         "Unidade da Federação",
         "4.9"
        ],
        [
         "24",
         "Rio Grande do Norte",
         "9312",
         "Valor adicionado da indústria de transformação em proporção do PIB",
         "2019",
         "2019",
         "2",
         "%",
         "3",
         "Unidade da Federação",
         "4.8"
        ],
        [
         "24",
         "Rio Grande do Norte",
         "9312",
         "Valor adicionado da indústria de transformação em proporção do PIB",
         "2020",
         "2020",
         "2",
         "%",
         "3",
         "Unidade da Federação",
         "5.0"
        ],
        [
         "25",
         "Paraíba",
         "9312",
         "Valor adicionado da indústria de transformação em proporção do PIB",
         "2018",
         "2018",
         "2",
         "%",
         "3",
         "Unidade da Federação",
         "7.6"
        ],
        [
         "25",
         "Paraíba",
         "9312",
         "Valor adicionado da indústria de transformação em proporção do PIB",
         "2019",
         "2019",
         "2",
         "%",
         "3",
         "Unidade da Federação",
         "7.4"
        ],
        [
         "25",
         "Paraíba",
         "9312",
         "Valor adicionado da indústria de transformação em proporção do PIB",
         "2020",
         "2020",
         "2",
         "%",
         "3",
         "Unidade da Federação",
         "7.2"
        ],
        [
         "26",
         "Pernambuco",
         "9312",
         "Valor adicionado da indústria de transformação em proporção do PIB",
         "2018",
         "2018",
         "2",
         "%",
         "3",
         "Unidade da Federação",
         "9.1"
        ],
        [
         "26",
         "Pernambuco",
         "9312",
         "Valor adicionado da indústria de transformação em proporção do PIB",
         "2019",
         "2019",
         "2",
         "%",
         "3",
         "Unidade da Federação",
         "9.1"
        ],
        [
         "26",
         "Pernambuco",
         "9312",
         "Valor adicionado da indústria de transformação em proporção do PIB",
         "2020",
         "2020",
         "2",
         "%",
         "3",
         "Unidade da Federação",
         "9.6"
        ],
        [
         "27",
         "Alagoas",
         "9312",
         "Valor adicionado da indústria de transformação em proporção do PIB",
         "2018",
         "2018",
         "2",
         "%",
         "3",
         "Unidade da Federação",
         "5.5"
        ],
        [
         "27",
         "Alagoas",
         "9312",
         "Valor adicionado da indústria de transformação em proporção do PIB",
         "2019",
         "2019",
         "2",
         "%",
         "3",
         "Unidade da Federação",
         "5.1"
        ],
        [
         "27",
         "Alagoas",
         "9312",
         "Valor adicionado da indústria de transformação em proporção do PIB",
         "2020",
         "2020",
         "2",
         "%",
         "3",
         "Unidade da Federação",
         "5.1"
        ],
        [
         "28",
         "Sergipe",
         "9312",
         "Valor adicionado da indústria de transformação em proporção do PIB",
         "2018",
         "2018",
         "2",
         "%",
         "3",
         "Unidade da Federação",
         "3.9"
        ],
        [
         "28",
         "Sergipe",
         "9312",
         "Valor adicionado da indústria de transformação em proporção do PIB",
         "2019",
         "2019",
         "2",
         "%",
         "3",
         "Unidade da Federação",
         "3.7"
        ],
        [
         "28",
         "Sergipe",
         "9312",
         "Valor adicionado da indústria de transformação em proporção do PIB",
         "2020",
         "2020",
         "2",
         "%",
         "3",
         "Unidade da Federação",
         "3.5"
        ],
        [
         "29",
         "Bahia",
         "9312",
         "Valor adicionado da indústria de transformação em proporção do PIB",
         "2018",
         "2018",
         "2",
         "%",
         "3",
         "Unidade da Federação",
         "9.3"
        ],
        [
         "29",
         "Bahia",
         "9312",
         "Valor adicionado da indústria de transformação em proporção do PIB",
         "2019",
         "2019",
         "2",
         "%",
         "3",
         "Unidade da Federação",
         "8.7"
        ],
        [
         "29",
         "Bahia",
         "9312",
         "Valor adicionado da indústria de transformação em proporção do PIB",
         "2020",
         "2020",
         "2",
         "%",
         "3",
         "Unidade da Federação",
         "8.8"
        ],
        [
         "31",
         "Minas Gerais",
         "9312",
         "Valor adicionado da indústria de transformação em proporção do PIB",
         "2018",
         "2018",
         "2",
         "%",
         "3",
         "Unidade da Federação",
         "12.3"
        ],
        [
         "31",
         "Minas Gerais",
         "9312",
         "Valor adicionado da indústria de transformação em proporção do PIB",
         "2019",
         "2019",
         "2",
         "%",
         "3",
         "Unidade da Federação",
         "12.3"
        ],
        [
         "31",
         "Minas Gerais",
         "9312",
         "Valor adicionado da indústria de transformação em proporção do PIB",
         "2020",
         "2020",
         "2",
         "%",
         "3",
         "Unidade da Federação",
         "12.3"
        ],
        [
         "32",
         "Espírito Santo",
         "9312",
         "Valor adicionado da indústria de transformação em proporção do PIB",
         "2018",
         "2018",
         "2",
         "%",
         "3",
         "Unidade da Federação",
         "7.0"
        ],
        [
         "32",
         "Espírito Santo",
         "9312",
         "Valor adicionado da indústria de transformação em proporção do PIB",
         "2019",
         "2019",
         "2",
         "%",
         "3",
         "Unidade da Federação",
         "6.3"
        ],
        [
         "32",
         "Espírito Santo",
         "9312",
         "Valor adicionado da indústria de transformação em proporção do PIB",
         "2020",
         "2020",
         "2",
         "%",
         "3",
         "Unidade da Federação",
         "6.2"
        ],
        [
         "33",
         "Rio de Janeiro",
         "9312",
         "Valor adicionado da indústria de transformação em proporção do PIB",
         "2018",
         "2018",
         "2",
         "%",
         "3",
         "Unidade da Federação",
         "5.9"
        ],
        [
         "33",
         "Rio de Janeiro",
         "9312",
         "Valor adicionado da indústria de transformação em proporção do PIB",
         "2019",
         "2019",
         "2",
         "%",
         "3",
         "Unidade da Federação",
         "5.4"
        ],
        [
         "33",
         "Rio de Janeiro",
         "9312",
         "Valor adicionado da indústria de transformação em proporção do PIB",
         "2020",
         "2020",
         "2",
         "%",
         "3",
         "Unidade da Federação",
         "5.3"
        ],
        [
         "35",
         "São Paulo",
         "9312",
         "Valor adicionado da indústria de transformação em proporção do PIB",
         "2018",
         "2018",
         "2",
         "%",
         "3",
         "Unidade da Federação",
         "13.2"
        ],
        [
         "35",
         "São Paulo",
         "9312",
         "Valor adicionado da indústria de transformação em proporção do PIB",
         "2019",
         "2019",
         "2",
         "%",
         "3",
         "Unidade da Federação",
         "13.6"
        ],
        [
         "35",
         "São Paulo",
         "9312",
         "Valor adicionado da indústria de transformação em proporção do PIB",
         "2020",
         "2020",
         "2",
         "%",
         "3",
         "Unidade da Federação",
         "13.4"
        ],
        [
         "41",
         "Paraná",
         "9312",
         "Valor adicionado da indústria de transformação em proporção do PIB",
         "2018",
         "2018",
         "2",
         "%",
         "3",
         "Unidade da Federação",
         "12.8"
        ],
        [
         "41",
         "Paraná",
         "9312",
         "Valor adicionado da indústria de transformação em proporção do PIB",
         "2019",
         "2019",
         "2",
         "%",
         "3",
         "Unidade da Federação",
         "13.2"
        ],
        [
         "41",
         "Paraná",
         "9312",
         "Valor adicionado da indústria de transformação em proporção do PIB",
         "2020",
         "2020",
         "2",
         "%",
         "3",
         "Unidade da Federação",
         "13.1"
        ],
        [
         "42",
         "Santa Catarina",
         "9312",
         "Valor adicionado da indústria de transformação em proporção do PIB",
         "2018",
         "2018",
         "2",
         "%",
         "3",
         "Unidade da Federação",
         "15.7"
        ],
        [
         "42",
         "Santa Catarina",
         "9312",
         "Valor adicionado da indústria de transformação em proporção do PIB",
         "2019",
         "2019",
         "2",
         "%",
         "3",
         "Unidade da Federação",
         "15.7"
        ],
        [
         "42",
         "Santa Catarina",
         "9312",
         "Valor adicionado da indústria de transformação em proporção do PIB",
         "2020",
         "2020",
         "2",
         "%",
         "3",
         "Unidade da Federação",
         "15.2"
        ],
        [
         "43",
         "Rio Grande do Sul",
         "9312",
         "Valor adicionado da indústria de transformação em proporção do PIB",
         "2018",
         "2018",
         "2",
         "%",
         "3",
         "Unidade da Federação",
         "13.6"
        ],
        [
         "43",
         "Rio Grande do Sul",
         "9312",
         "Valor adicionado da indústria de transformação em proporção do PIB",
         "2019",
         "2019",
         "2",
         "%",
         "3",
         "Unidade da Federação",
         "13.4"
        ],
        [
         "43",
         "Rio Grande do Sul",
         "9312",
         "Valor adicionado da indústria de transformação em proporção do PIB",
         "2020",
         "2020",
         "2",
         "%",
         "3",
         "Unidade da Federação",
         "13.1"
        ],
        [
         "50",
         "Mato Grosso do Sul",
         "9312",
         "Valor adicionado da indústria de transformação em proporção do PIB",
         "2018",
         "2018",
         "2",
         "%",
         "3",
         "Unidade da Federação",
         "9.2"
        ],
        [
         "50",
         "Mato Grosso do Sul",
         "9312",
         "Valor adicionado da indústria de transformação em proporção do PIB",
         "2019",
         "2019",
         "2",
         "%",
         "3",
         "Unidade da Federação",
         "9.1"
        ],
        [
         "50",
         "Mato Grosso do Sul",
         "9312",
         "Valor adicionado da indústria de transformação em proporção do PIB",
         "2020",
         "2020",
         "2",
         "%",
         "3",
         "Unidade da Federação",
         "9.5"
        ],
        [
         "51",
         "Mato Grosso",
         "9312",
         "Valor adicionado da indústria de transformação em proporção do PIB",
         "2018",
         "2018",
         "2",
         "%",
         "3",
         "Unidade da Federação",
         "8.6"
        ],
        [
         "51",
         "Mato Grosso",
         "9312",
         "Valor adicionado da indústria de transformação em proporção do PIB",
         "2019",
         "2019",
         "2",
         "%",
         "3",
         "Unidade da Federação",
         "8.2"
        ],
        [
         "51",
         "Mato Grosso",
         "9312",
         "Valor adicionado da indústria de transformação em proporção do PIB",
         "2020",
         "2020",
         "2",
         "%",
         "3",
         "Unidade da Federação",
         "7.7"
        ],
        [
         "52",
         "Goiás",
         "9312",
         "Valor adicionado da indústria de transformação em proporção do PIB",
         "2018",
         "2018",
         "2",
         "%",
         "3",
         "Unidade da Federação",
         "13.3"
        ],
        [
         "52",
         "Goiás",
         "9312",
         "Valor adicionado da indústria de transformação em proporção do PIB",
         "2019",
         "2019",
         "2",
         "%",
         "3",
         "Unidade da Federação",
         "13.7"
        ],
        [
         "52",
         "Goiás",
         "9312",
         "Valor adicionado da indústria de transformação em proporção do PIB",
         "2020",
         "2020",
         "2",
         "%",
         "3",
         "Unidade da Federação",
         "14.9"
        ],
        [
         "53",
         "Distrito Federal",
         "9312",
         "Valor adicionado da indústria de transformação em proporção do PIB",
         "2018",
         "2018",
         "2",
         "%",
         "3",
         "Unidade da Federação",
         "1.1"
        ],
        [
         "53",
         "Distrito Federal",
         "9312",
         "Valor adicionado da indústria de transformação em proporção do PIB",
         "2019",
         "2019",
         "2",
         "%",
         "3",
         "Unidade da Federação",
         "1.2"
        ],
        [
         "53",
         "Distrito Federal",
         "9312",
         "Valor adicionado da indústria de transformação em proporção do PIB",
         "2020",
         "2020",
         "2",
         "%",
         "3",
         "Unidade da Federação",
         "1.2"
        ]
       ],
       "datasetInfos": [],
       "dbfsResultPath": null,
       "isJsonSchema": true,
       "metadata": {},
       "overflow": false,
       "plotOptions": {
        "customPlotOptions": {},
        "displayType": "table",
        "pivotAggregation": null,
        "pivotColumns": null,
        "xColumns": null,
        "yColumns": null
       },
       "removedWidgets": [],
       "schema": [
        {
         "metadata": "{}",
         "name": "brasil_unidade_federacao_codigo",
         "type": "\"string\""
        },
        {
         "metadata": "{}",
         "name": "brasil_unidade_federacao",
         "type": "\"string\""
        },
        {
         "metadata": "{}",
         "name": "variavel_codigo",
         "type": "\"string\""
        },
        {
         "metadata": "{}",
         "name": "variavel",
         "type": "\"string\""
        },
        {
         "metadata": "{}",
         "name": "ano_codigo",
         "type": "\"string\""
        },
        {
         "metadata": "{}",
         "name": "ano",
         "type": "\"string\""
        },
        {
         "metadata": "{}",
         "name": "unidade_medida_codigo",
         "type": "\"string\""
        },
        {
         "metadata": "{}",
         "name": "unidade_medida",
         "type": "\"string\""
        },
        {
         "metadata": "{}",
         "name": "nivel_territorial_codigo",
         "type": "\"string\""
        },
        {
         "metadata": "{}",
         "name": "nivel_territorial",
         "type": "\"string\""
        },
        {
         "metadata": "{}",
         "name": "valor",
         "type": "\"string\""
        }
       ],
       "type": "table"
      }
     },
     "output_type": "display_data"
    }
   ],
   "source": [
    "%sql\n",
    "SELECT * \n",
    "FROM   dim_pib"
   ]
  },
  {
   "cell_type": "code",
   "execution_count": 0,
   "metadata": {
    "application/vnd.databricks.v1+cell": {
     "cellMetadata": {
      "byteLimit": 2048000,
      "implicitDf": true,
      "rowLimit": 10000
     },
     "inputWidgets": {},
     "nuid": "8d80c779-75bd-47c0-8821-d6e28b1f2ba0",
     "showTitle": false,
     "title": ""
    }
   },
   "outputs": [
    {
     "output_type": "display_data",
     "data": {
      "text/html": [
       "<style scoped>\n",
       "  .table-result-container {\n",
       "    max-height: 300px;\n",
       "    overflow: auto;\n",
       "  }\n",
       "  table, th, td {\n",
       "    border: 1px solid black;\n",
       "    border-collapse: collapse;\n",
       "  }\n",
       "  th, td {\n",
       "    padding: 5px;\n",
       "  }\n",
       "  th {\n",
       "    text-align: left;\n",
       "  }\n",
       "</style><div class='table-result-container'><table class='table-result'><thead style='background-color: white'><tr><th>localidade</th><th>res_2016</th><th>res_2017</th><th>res_2018</th><th>res_2019</th><th>res_2020</th><th>res_2021</th></tr></thead><tbody><tr><td>35</td><td>4.4760305E7</td><td>4.5149603E7</td><td>4.5538936E7</td><td>4.5919049E7</td><td>4.6289333E7</td><td>4.6649132E7</td></tr></tbody></table></div>"
      ]
     },
     "metadata": {
      "application/vnd.databricks.v1+output": {
       "addedWidgets": {},
       "aggData": [],
       "aggError": "",
       "aggOverflow": false,
       "aggSchema": [],
       "aggSeriesLimitReached": false,
       "aggType": "",
       "arguments": {},
       "columnCustomDisplayInfos": {},
       "data": [
        [
         35,
         4.4760305E7,
         4.5149603E7,
         4.5538936E7,
         4.5919049E7,
         4.6289333E7,
         4.6649132E7
        ]
       ],
       "datasetInfos": [],
       "dbfsResultPath": null,
       "isJsonSchema": true,
       "metadata": {},
       "overflow": false,
       "plotOptions": {
        "customPlotOptions": {},
        "displayType": "table",
        "pivotAggregation": null,
        "pivotColumns": null,
        "xColumns": null,
        "yColumns": null
       },
       "removedWidgets": [],
       "schema": [
        {
         "metadata": "{}",
         "name": "localidade",
         "type": "\"integer\""
        },
        {
         "metadata": "{}",
         "name": "res_2016",
         "type": "\"double\""
        },
        {
         "metadata": "{}",
         "name": "res_2017",
         "type": "\"double\""
        },
        {
         "metadata": "{}",
         "name": "res_2018",
         "type": "\"double\""
        },
        {
         "metadata": "{}",
         "name": "res_2019",
         "type": "\"double\""
        },
        {
         "metadata": "{}",
         "name": "res_2020",
         "type": "\"double\""
        },
        {
         "metadata": "{}",
         "name": "res_2021",
         "type": "\"double\""
        }
       ],
       "type": "table"
      }
     },
     "output_type": "display_data"
    }
   ],
   "source": [
    "%sql\n",
    "SELECT * \n",
    "FROM   dim_populacao"
   ]
  }
 ],
 "metadata": {
  "application/vnd.databricks.v1+notebook": {
   "dashboards": [],
   "language": "python",
   "notebookMetadata": {
    "mostRecentlyExecutedCommandWithImplicitDF": {
     "commandId": 2442975975555977,
     "dataframes": [
      "_sqldf"
     ]
    },
    "pythonIndentUnit": 2
   },
   "notebookName": "Montreal_Consumo_API",
   "widgets": {}
  }
 },
 "nbformat": 4,
 "nbformat_minor": 0
}
